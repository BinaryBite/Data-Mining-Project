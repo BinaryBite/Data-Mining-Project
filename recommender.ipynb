{
 "cells": [
  {
   "cell_type": "markdown",
   "metadata": {},
   "source": [
    "Recommender System based on User Ratings"
   ]
  },
  {
   "cell_type": "markdown",
   "metadata": {},
   "source": [
    "Step 1. Import Libraries"
   ]
  },
  {
   "cell_type": "code",
   "execution_count": 7,
   "metadata": {},
   "outputs": [],
   "source": [
    "import pandas as pd\n",
    "import numpy as np\n",
    "from lenskit.algorithms import Recommender\n",
    "from lenskit.algorithms.user_knn import UserUser"
   ]
  },
  {
   "cell_type": "markdown",
   "metadata": {},
   "source": [
    "Step 2: Import Data"
   ]
  },
  {
   "cell_type": "code",
   "execution_count": 9,
   "metadata": {},
   "outputs": [],
   "source": [
    "def import_data(customers, products, orders, sales):\n",
    "    customers_record = pd.read_csv(customers)\n",
    "    products_record = pd.read_csv(products)\n",
    "    orders_record = pd.read_csv(orders)\n",
    "    sales_record = pd.read_csv(sales)\n",
    "\n",
    "    merged_record = pd.merge(customers_record, orders_record, on=\"customer_id\")\n",
    "    merged_record = pd.merge(merged_record, sales_record, on=\"order_id\")\n",
    "    merged_record = pd.merge(merged_record, products_record, on=\"product_id\")\n",
    "    return merged_record"
   ]
  },
  {
   "cell_type": "code",
   "execution_count": 10,
   "metadata": {},
   "outputs": [
    {
     "name": "stdout",
     "output_type": "stream",
     "text": [
      "   customer_id  customer_name  gender  age                    home_address  \\\n",
      "0            1  Leanna Busson  Female   30  8606 Victoria TerraceSuite 560   \n",
      "1            1  Leanna Busson  Female   30  8606 Victoria TerraceSuite 560   \n",
      "2            1  Leanna Busson  Female   30  8606 Victoria TerraceSuite 560   \n",
      "3            1  Leanna Busson  Female   30  8606 Victoria TerraceSuite 560   \n",
      "4            1  Leanna Busson  Female   30  8606 Victoria TerraceSuite 560   \n",
      "\n",
      "   zip_code           city               state    country  order_id  ...  \\\n",
      "0      5464  Johnstonhaven  Northern Territory  Australia       455  ...   \n",
      "1      5464  Johnstonhaven  Northern Territory  Australia       455  ...   \n",
      "2      5464  Johnstonhaven  Northern Territory  Australia       670  ...   \n",
      "3      5464  Johnstonhaven  Northern Territory  Australia       670  ...   \n",
      "4      5464  Johnstonhaven  Northern Territory  Australia       670  ...   \n",
      "\n",
      "   price_per_unit quantity_x total_price  product_type   product_name  size  \\\n",
      "0             106          3         318         Shirt       Chambray     S   \n",
      "1              91          2         182        Jacket       Pullover     L   \n",
      "2              98          2         196        Jacket        Leather    XS   \n",
      "3              91          2         182        Jacket       Pullover     M   \n",
      "4              98          1          98         Shirt  Camp Collared    XL   \n",
      "\n",
      "   colour  price quantity_y                                    description  \n",
      "0     red    105         72        A red coloured, S sized, Chambray Shirt  \n",
      "1  yellow    114         43    A yellow coloured, L sized, Pullover Jacket  \n",
      "2     red    113         67       A red coloured, XS sized, Leather Jacket  \n",
      "3    blue    114         44      A blue coloured, M sized, Pullover Jacket  \n",
      "4     red    112         79  A red coloured, XL sized, Camp Collared Shirt  \n",
      "\n",
      "[5 rows x 25 columns]\n"
     ]
    }
   ],
   "source": [
    "recommender_data = import_data(\"customers.csv\", \"products.csv\", \"orders.csv\", \"sales.csv\")\n",
    "print(recommender_data.head())"
   ]
  },
  {
   "cell_type": "markdown",
   "metadata": {},
   "source": [
    "Step 3. Generate/Process Data (Add User Ratings)"
   ]
  },
  {
   "cell_type": "code",
   "execution_count": 12,
   "metadata": {},
   "outputs": [],
   "source": [
    "def add_ratings(data):\n",
    "    data['rating'] = np.random.randint(1, 6, size = data.shape[0])\n",
    "    return data"
   ]
  },
  {
   "cell_type": "code",
   "execution_count": 14,
   "metadata": {},
   "outputs": [
    {
     "name": "stdout",
     "output_type": "stream",
     "text": [
      "   customer_id  customer_name  gender  age                    home_address  \\\n",
      "0            1  Leanna Busson  Female   30  8606 Victoria TerraceSuite 560   \n",
      "1            1  Leanna Busson  Female   30  8606 Victoria TerraceSuite 560   \n",
      "2            1  Leanna Busson  Female   30  8606 Victoria TerraceSuite 560   \n",
      "3            1  Leanna Busson  Female   30  8606 Victoria TerraceSuite 560   \n",
      "4            1  Leanna Busson  Female   30  8606 Victoria TerraceSuite 560   \n",
      "\n",
      "   zip_code           city               state    country  order_id  ...  \\\n",
      "0      5464  Johnstonhaven  Northern Territory  Australia       455  ...   \n",
      "1      5464  Johnstonhaven  Northern Territory  Australia       455  ...   \n",
      "2      5464  Johnstonhaven  Northern Territory  Australia       670  ...   \n",
      "3      5464  Johnstonhaven  Northern Territory  Australia       670  ...   \n",
      "4      5464  Johnstonhaven  Northern Territory  Australia       670  ...   \n",
      "\n",
      "   quantity_x total_price product_type   product_name  size  colour  price  \\\n",
      "0           3         318        Shirt       Chambray     S     red    105   \n",
      "1           2         182       Jacket       Pullover     L  yellow    114   \n",
      "2           2         196       Jacket        Leather    XS     red    113   \n",
      "3           2         182       Jacket       Pullover     M    blue    114   \n",
      "4           1          98        Shirt  Camp Collared    XL     red    112   \n",
      "\n",
      "   quantity_y                                    description rating  \n",
      "0          72        A red coloured, S sized, Chambray Shirt      3  \n",
      "1          43    A yellow coloured, L sized, Pullover Jacket      5  \n",
      "2          67       A red coloured, XS sized, Leather Jacket      4  \n",
      "3          44      A blue coloured, M sized, Pullover Jacket      2  \n",
      "4          79  A red coloured, XL sized, Camp Collared Shirt      1  \n",
      "\n",
      "[5 rows x 26 columns]\n"
     ]
    }
   ],
   "source": [
    "data_with_ratings = add_ratings(recommender_data)\n",
    "print(data_with_ratings.head())"
   ]
  },
  {
   "cell_type": "markdown",
   "metadata": {},
   "source": [
    "Step 4:  Implement Recommender System"
   ]
  },
  {
   "cell_type": "code",
   "execution_count": 18,
   "metadata": {},
   "outputs": [],
   "source": [
    "def recommender(data):\n",
    "   \n",
    "    #Represent ratings\n",
    "    data = data[['customer_id','product_name','rating']]\n",
    "    data.rename(columns = {'customer_id' : 'user', 'product_name': 'item'}, inplace= True)\n",
    "\n",
    "    #Implement reccomender algorithm\n",
    "    user_user = UserUser(15, min_nbrs = 3) #setting number of neighbours to consider\n",
    "    algo = Recommender.adapt(user_user)\n",
    "    algo.fit(data)\n",
    "    return algo"
   ]
  },
  {
   "cell_type": "code",
   "execution_count": 19,
   "metadata": {},
   "outputs": [
    {
     "name": "stderr",
     "output_type": "stream",
     "text": [
      "/var/folders/c5/kwcy_4511_j_g4k9b_8n36640000gn/T/ipykernel_3053/2735095094.py:5: SettingWithCopyWarning: \n",
      "A value is trying to be set on a copy of a slice from a DataFrame\n",
      "\n",
      "See the caveats in the documentation: https://pandas.pydata.org/pandas-docs/stable/user_guide/indexing.html#returning-a-view-versus-a-copy\n",
      "  data.rename(columns = {'customer_id' : 'user', 'product_name': 'item'}, inplace= True)\n",
      "Numba is using threading layer workqueue - consider TBB\n",
      "found 1 potential runtime problems - see https://boi.st/lkpy-perf\n"
     ]
    }
   ],
   "source": [
    "algo = recommender(data_with_ratings)"
   ]
  },
  {
   "cell_type": "markdown",
   "metadata": {},
   "source": [
    "Step 5: Print Top 3 Recommendations for a User"
   ]
  },
  {
   "cell_type": "code",
   "execution_count": 20,
   "metadata": {},
   "outputs": [
    {
     "name": "stdout",
     "output_type": "stream",
     "text": [
      "          item     score\n",
      "0  Trench Coat  3.868205\n",
      "1      Joggers  3.650209\n",
      "2        Denim  3.487702\n"
     ]
    }
   ],
   "source": [
    "#create top 3 recommendations for selected user\n",
    "user_recs = algo.recommend(1, 3,)\n",
    "print(user_recs)"
   ]
  }
 ],
 "metadata": {
  "kernelspec": {
   "display_name": "Python 3 (ipykernel)",
   "language": "python",
   "name": "python3"
  },
  "language_info": {
   "codemirror_mode": {
    "name": "ipython",
    "version": 3
   },
   "file_extension": ".py",
   "mimetype": "text/x-python",
   "name": "python",
   "nbconvert_exporter": "python",
   "pygments_lexer": "ipython3",
   "version": "3.11.4"
  }
 },
 "nbformat": 4,
 "nbformat_minor": 2
}
