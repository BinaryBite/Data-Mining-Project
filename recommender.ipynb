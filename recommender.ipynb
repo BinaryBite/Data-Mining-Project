{
 "cells": [
  {
   "cell_type": "markdown",
   "metadata": {},
   "source": [
    "# Recommender System based on User Ratings"
   ]
  },
  {
   "cell_type": "markdown",
   "metadata": {},
   "source": [
    "Step 1. Import Libraries"
   ]
  },
  {
   "cell_type": "code",
   "execution_count": 2,
   "metadata": {},
   "outputs": [],
   "source": [
    "import pandas as pd\n",
    "import numpy as np\n",
    "from lenskit.algorithms import Recommender\n",
    "from lenskit.algorithms.user_knn import UserUser"
   ]
  },
  {
   "cell_type": "markdown",
   "metadata": {},
   "source": [
    "Step 2: Import Data"
   ]
  },
  {
   "cell_type": "code",
   "execution_count": 13,
   "metadata": {},
   "outputs": [],
   "source": [
    "def import_data(customers, products, orders, sales):\n",
    "    #Read in relevant files\n",
    "    customers_record = pd.read_csv(customers)\n",
    "    products_record = pd.read_csv(products)\n",
    "    orders_record = pd.read_csv(orders)\n",
    "    sales_record = pd.read_csv(sales)\n",
    "\n",
    "    #Merge all records into one dataframe\n",
    "    merged_record = pd.merge(customers_record, orders_record, on=\"customer_id\")\n",
    "    merged_record = pd.merge(merged_record, sales_record, on=\"order_id\")\n",
    "    merged_record = pd.merge(merged_record, products_record, on=\"product_id\")\n",
    "    return merged_record"
   ]
  },
  {
   "cell_type": "code",
   "execution_count": 14,
   "metadata": {},
   "outputs": [
    {
     "name": "stdout",
     "output_type": "stream",
     "text": [
      "   customer_id  customer_name    gender  age                    home_address  \\\n",
      "0            1  Leanna Busson    Female   30  8606 Victoria TerraceSuite 560   \n",
      "1            1  Leanna Busson    Female   30  8606 Victoria TerraceSuite 560   \n",
      "2           81  Lanny Wardale    Female   30     4870 Jackson SummitApt. 538   \n",
      "3          258  Mira Heinonen    Female   62     2719 Dietrich KnollApt. 175   \n",
      "4          432  Ettie Gonnely  Bigender   34      6172 Andrew AvenueApt. 194   \n",
      "\n",
      "   zip_code            city               state    country  order_id  ...  \\\n",
      "0      5464   Johnstonhaven  Northern Territory  Australia       455  ...   \n",
      "1      5464   Johnstonhaven  Northern Territory  Australia       455  ...   \n",
      "2      1915  Spencerborough   Western Australia  Australia       863  ...   \n",
      "3      1252    South Declan          Queensland  Australia       793  ...   \n",
      "4      7029      North Cody            Victoria  Australia       939  ...   \n",
      "\n",
      "   price_per_unit quantity_x total_price  product_type  product_name  size  \\\n",
      "0             106          3         318         Shirt      Chambray     S   \n",
      "1              91          2         182        Jacket      Pullover     L   \n",
      "2              91          1          91        Jacket      Pullover     L   \n",
      "3              91          3         273        Jacket      Pullover     L   \n",
      "4              91          2         182        Jacket      Pullover     L   \n",
      "\n",
      "   colour  price quantity_y                                  description  \n",
      "0     red    105         72      A red coloured, S sized, Chambray Shirt  \n",
      "1  yellow    114         43  A yellow coloured, L sized, Pullover Jacket  \n",
      "2  yellow    114         43  A yellow coloured, L sized, Pullover Jacket  \n",
      "3  yellow    114         43  A yellow coloured, L sized, Pullover Jacket  \n",
      "4  yellow    114         43  A yellow coloured, L sized, Pullover Jacket  \n",
      "\n",
      "[5 rows x 25 columns]\n"
     ]
    }
   ],
   "source": [
    "recommender_data = import_data(\"customers.csv\", \"products.csv\", \"orders.csv\", \"sales.csv\")\n",
    "print(recommender_data.head())"
   ]
  },
  {
   "cell_type": "markdown",
   "metadata": {},
   "source": [
    "Step 3. Generate/Process Data (Add User Ratings)"
   ]
  },
  {
   "cell_type": "code",
   "execution_count": 5,
   "metadata": {},
   "outputs": [],
   "source": [
    "def add_ratings(data):\n",
    "    #Add random rating between 1 and 5 to each row (sale)\n",
    "    data['rating'] = np.random.randint(1, 6, size = data.shape[0])\n",
    "    return data"
   ]
  },
  {
   "cell_type": "code",
   "execution_count": 6,
   "metadata": {},
   "outputs": [
    {
     "name": "stdout",
     "output_type": "stream",
     "text": [
      "   sales_id  order_id  product_id  price_per_unit  quantity_x  total_price  \\\n",
      "0         0         1         218             106           2          212   \n",
      "1         1         1         481             118           1          118   \n",
      "2         2         1           2              96           3          288   \n",
      "3         3         1        1002             106           2          212   \n",
      "4         4         1         691             113           3          339   \n",
      "\n",
      "   customer_id  payment order_date delivery_date  ...  \\\n",
      "0           64    30811  2021-8-30    2021-09-24  ...   \n",
      "1           64    30811  2021-8-30    2021-09-24  ...   \n",
      "2           64    30811  2021-8-30    2021-09-24  ...   \n",
      "3           64    30811  2021-8-30    2021-09-24  ...   \n",
      "4           64    30811  2021-8-30    2021-09-24  ...   \n",
      "\n",
      "                                   description     customer_name       gender  \\\n",
      "0   A orange coloured, L sized, Chambray Shirt  Annabella Devote  Genderfluid   \n",
      "1    A indigo coloured, S sized, Puffer Jacket  Annabella Devote  Genderfluid   \n",
      "2  A red coloured, M sized, Oxford Cloth Shirt  Annabella Devote  Genderfluid   \n",
      "3      A blue coloured, M sized, Wool Trousers  Annabella Devote  Genderfluid   \n",
      "4     A indigo coloured, S sized, Parka Jacket  Annabella Devote  Genderfluid   \n",
      "\n",
      "  age               home_address  zip_code            city            state  \\\n",
      "0  75  4927 Alice MeadowApt. 960      7787  Sanfordborough  South Australia   \n",
      "1  75  4927 Alice MeadowApt. 960      7787  Sanfordborough  South Australia   \n",
      "2  75  4927 Alice MeadowApt. 960      7787  Sanfordborough  South Australia   \n",
      "3  75  4927 Alice MeadowApt. 960      7787  Sanfordborough  South Australia   \n",
      "4  75  4927 Alice MeadowApt. 960      7787  Sanfordborough  South Australia   \n",
      "\n",
      "     country  rating  \n",
      "0  Australia       1  \n",
      "1  Australia       1  \n",
      "2  Australia       4  \n",
      "3  Australia       4  \n",
      "4  Australia       3  \n",
      "\n",
      "[5 rows x 26 columns]\n"
     ]
    }
   ],
   "source": [
    "data_with_ratings = add_ratings(recommender_data)\n",
    "print(data_with_ratings.head())"
   ]
  },
  {
   "cell_type": "markdown",
   "metadata": {},
   "source": [
    "Step 4:  Implement Recommender System"
   ]
  },
  {
   "cell_type": "code",
   "execution_count": 10,
   "metadata": {},
   "outputs": [],
   "source": [
    "def recommender(data, num_neighbours, min_neighbours):\n",
    "   \n",
    "    #Represent ratings\n",
    "    data = data[['customer_id','product_name','rating']]\n",
    "    data_copy = data.copy()\n",
    "    data_copy.rename(columns = {'customer_id' : 'user', 'product_name': 'item'}, inplace= True)\n",
    "\n",
    "    #Implement reccomender algorithm\n",
    "    user_user = UserUser(num_neighbours, min_nbrs = min_neighbours) #setting number of neighbours to consider\n",
    "    algo = Recommender.adapt(user_user)\n",
    "    algo.fit(data_copy)\n",
    "    return algo"
   ]
  },
  {
   "cell_type": "code",
   "execution_count": 11,
   "metadata": {},
   "outputs": [],
   "source": [
    "algo = recommender(data_with_ratings, 15, 3)"
   ]
  },
  {
   "cell_type": "markdown",
   "metadata": {},
   "source": [
    "Step 5: Print Top 3 Recommendations for a User"
   ]
  },
  {
   "cell_type": "code",
   "execution_count": 12,
   "metadata": {},
   "outputs": [
    {
     "name": "stdout",
     "output_type": "stream",
     "text": [
      "              item     score\n",
      "0     High-Waisted  3.479683\n",
      "1          Pleated  3.307329\n",
      "2  Casual Slim Fit  3.278656\n"
     ]
    }
   ],
   "source": [
    "#create top 3 recommendations for selected user\n",
    "user_recs = algo.recommend(1, 3)\n",
    "print(user_recs)"
   ]
  }
 ],
 "metadata": {
  "kernelspec": {
   "display_name": "Python 3 (ipykernel)",
   "language": "python",
   "name": "python3"
  },
  "language_info": {
   "codemirror_mode": {
    "name": "ipython",
    "version": 3
   },
   "file_extension": ".py",
   "mimetype": "text/x-python",
   "name": "python",
   "nbconvert_exporter": "python",
   "pygments_lexer": "ipython3",
   "version": "3.9.18"
  }
 },
 "nbformat": 4,
 "nbformat_minor": 2
}
