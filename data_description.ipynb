{
 "cells": [
  {
   "cell_type": "markdown",
   "metadata": {},
   "source": [
    "Data Description"
   ]
  },
  {
   "cell_type": "markdown",
   "metadata": {},
   "source": [
    "Step 1. Import Libraries"
   ]
  },
  {
   "cell_type": "code",
   "execution_count": 24,
   "metadata": {},
   "outputs": [],
   "source": [
    "import pandas as pd"
   ]
  },
  {
   "cell_type": "markdown",
   "metadata": {},
   "source": [
    "Step 2. Import Data"
   ]
  },
  {
   "cell_type": "code",
   "execution_count": 25,
   "metadata": {},
   "outputs": [],
   "source": [
    "def import_data(customers, products, orders, sales):\n",
    "    # Read relevant files\n",
    "    customers_record = pd.read_csv(customers)\n",
    "    products_record = pd.read_csv(products)\n",
    "    orders_record = pd.read_csv(orders)\n",
    "    sales_record = pd.read_csv(sales)\n",
    "\n",
    "    # Merge all records into one dataframe\n",
    "    merged_record = pd.merge(customers_record, orders_record, on=\"customer_id\")\n",
    "    merged_record = pd.merge(merged_record, sales_record, on=\"order_id\")\n",
    "    merged_record = pd.merge(merged_record, products_record, on=\"product_id\")\n",
    "    return merged_record"
   ]
  },
  {
   "cell_type": "code",
   "execution_count": 26,
   "metadata": {},
   "outputs": [
    {
     "name": "stdout",
     "output_type": "stream",
     "text": [
      "   customer_id  customer_name  gender  age                    home_address  \\\n",
      "0            1  Leanna Busson  Female   30  8606 Victoria TerraceSuite 560   \n",
      "1            1  Leanna Busson  Female   30  8606 Victoria TerraceSuite 560   \n",
      "2            1  Leanna Busson  Female   30  8606 Victoria TerraceSuite 560   \n",
      "3            1  Leanna Busson  Female   30  8606 Victoria TerraceSuite 560   \n",
      "4            1  Leanna Busson  Female   30  8606 Victoria TerraceSuite 560   \n",
      "\n",
      "   zip_code           city               state    country  order_id  ...  \\\n",
      "0      5464  Johnstonhaven  Northern Territory  Australia       455  ...   \n",
      "1      5464  Johnstonhaven  Northern Territory  Australia       455  ...   \n",
      "2      5464  Johnstonhaven  Northern Territory  Australia       670  ...   \n",
      "3      5464  Johnstonhaven  Northern Territory  Australia       670  ...   \n",
      "4      5464  Johnstonhaven  Northern Territory  Australia       670  ...   \n",
      "\n",
      "   price_per_unit quantity_x total_price  product_type   product_name  size  \\\n",
      "0             106          3         318         Shirt       Chambray     S   \n",
      "1              91          2         182        Jacket       Pullover     L   \n",
      "2              98          2         196        Jacket        Leather    XS   \n",
      "3              91          2         182        Jacket       Pullover     M   \n",
      "4              98          1          98         Shirt  Camp Collared    XL   \n",
      "\n",
      "   colour  price quantity_y                                    description  \n",
      "0     red    105         72        A red coloured, S sized, Chambray Shirt  \n",
      "1  yellow    114         43    A yellow coloured, L sized, Pullover Jacket  \n",
      "2     red    113         67       A red coloured, XS sized, Leather Jacket  \n",
      "3    blue    114         44      A blue coloured, M sized, Pullover Jacket  \n",
      "4     red    112         79  A red coloured, XL sized, Camp Collared Shirt  \n",
      "\n",
      "[5 rows x 25 columns]\n"
     ]
    }
   ],
   "source": [
    "data = import_data(\"customers.csv\", \"products.csv\", \"orders.csv\", \"sales.csv\")\n",
    "print(data.head())"
   ]
  },
  {
   "cell_type": "markdown",
   "metadata": {},
   "source": [
    "Print descriptive stats"
   ]
  },
  {
   "cell_type": "code",
   "execution_count": 28,
   "metadata": {},
   "outputs": [
    {
     "name": "stdout",
     "output_type": "stream",
     "text": [
      "Size of data(rows, cols): (5000, 25)\n",
      "Sales data available upto date: 2021-10-24 00:00:00\n",
      "Number of unique customers: 616\n",
      "Number of unique products: 35\n",
      "Name of unique products: ['Chambray' 'Pullover' 'Leather' 'Camp Collared' 'Cropped'\n",
      " 'Tracksuit Bottoms' 'Shearling' 'Casual Slim Fit' 'Wool' 'Relaxed Leg'\n",
      " 'Linen' 'Bomber' 'Windbreaker' 'Chinos' 'Coach' 'Pleated' 'Puffer'\n",
      " 'Cardigan' 'Peacoat' 'High-Waisted' 'Slim-Fit' 'Denim' 'Oxford Cloth'\n",
      " 'Drawstring' 'Flannel' 'Joggers' 'Cuban Collar' 'Mandarin Collar'\n",
      " 'Trench Coat' 'Cargo Pants' 'Dress' 'Cords' 'Parka' 'Polo' 'Henley']\n",
      "Number of unique product types: 3\n",
      "Name of unique product types: ['Shirt' 'Jacket' 'Trousers']\n",
      "Average monthly sales: $ 103180.0\n"
     ]
    }
   ],
   "source": [
    "df = pd.DataFrame(data)\n",
    "\n",
    "# Descriptive Analysis\n",
    "print(\"Size of data(rows, cols):\", df.shape)\n",
    "\n",
    "# Sales data available upto date\n",
    "df['date'] = pd.to_datetime(df['order_date'])\n",
    "max_date = df['date'].max()\n",
    "print(\"Sales data available upto date:\", max_date)\n",
    "\n",
    "# Number of customers\n",
    "num_customers = df['customer_id'].nunique()\n",
    "print(\"Number of unique customers:\", num_customers)\n",
    "\n",
    "# Number of products\n",
    "num_products = df['product_name'].nunique()\n",
    "print(\"Number of unique products:\", num_products)\n",
    "\n",
    "# Name of products\n",
    "products = df['product_name'].unique()\n",
    "print(\"Name of unique products:\", products)\n",
    "\n",
    "# Number of product type\n",
    "product_type = df['product_type'].nunique()\n",
    "print(\"Number of unique product types:\", product_type)\n",
    "\n",
    "# Names of product type\n",
    "product_type_name = df['product_type'].unique()\n",
    "print(\"Name of unique product types:\", product_type_name)\n",
    "\n",
    "# Average monthly sales \n",
    "df['year'] = df['date'].dt.year\n",
    "df['month'] = df['date'].dt.month\n",
    "monthly_sales = df.groupby(['year', 'month']).agg({'total_price': 'sum'}).mean()\n",
    "print(\"Average monthly sales: $\", monthly_sales.values[0])"
   ]
  }
 ],
 "metadata": {
  "kernelspec": {
   "display_name": "Python 3",
   "language": "python",
   "name": "python3"
  },
  "language_info": {
   "codemirror_mode": {
    "name": "ipython",
    "version": 3
   },
   "file_extension": ".py",
   "mimetype": "text/x-python",
   "name": "python",
   "nbconvert_exporter": "python",
   "pygments_lexer": "ipython3",
   "version": "3.9.6"
  }
 },
 "nbformat": 4,
 "nbformat_minor": 2
}
