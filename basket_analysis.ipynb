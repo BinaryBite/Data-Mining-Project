{
 "cells": [
  {
   "cell_type": "markdown",
   "metadata": {},
   "source": [
    "# Basket Analysis"
   ]
  },
  {
   "cell_type": "markdown",
   "metadata": {},
   "source": [
    "Step 1: Import Libraries"
   ]
  },
  {
   "cell_type": "code",
   "execution_count": 49,
   "metadata": {},
   "outputs": [],
   "source": [
    "import pandas as pd\n",
    "from mlxtend.frequent_patterns import apriori, association_rules"
   ]
  },
  {
   "cell_type": "markdown",
   "metadata": {},
   "source": [
    "Step 2: Import Data"
   ]
  },
  {
   "cell_type": "code",
   "execution_count": 50,
   "metadata": {},
   "outputs": [],
   "source": [
    "def import_data():\n",
    "    # Define file paths\n",
    "    orders_path = 'orders.csv'\n",
    "    customers_path = 'customers.csv'\n",
    "    products_path = 'products.csv'\n",
    "    sales_path = 'sales.csv'\n",
    "\n",
    "    # Load data\n",
    "    customers_df = pd.read_csv(customers_path)\n",
    "    orders_df = pd.read_csv(orders_path)\n",
    "    products_df = pd.read_csv(products_path)\n",
    "    sales_df = pd.read_csv(sales_path)\n",
    "\n",
    "    # Merge data\n",
    "    sales_orders_df = pd.merge(sales_df, orders_df, on='order_id', how='left')\n",
    "    sales_orders_products_df = pd.merge(sales_orders_df, products_df, left_on='product_id', right_on='product_id', how='left')\n",
    "    full_data_df = pd.merge(sales_orders_products_df, customers_df, on='customer_id', how='left')\n",
    "    return full_data_df"
   ]
  },
  {
   "cell_type": "code",
   "execution_count": 51,
   "metadata": {},
   "outputs": [
    {
     "name": "stdout",
     "output_type": "stream",
     "text": [
      "   sales_id  order_id  product_id  price_per_unit  quantity_x  total_price  \\\n",
      "0         0         1         218             106           2          212   \n",
      "1         1         1         481             118           1          118   \n",
      "2         2         1           2              96           3          288   \n",
      "3         3         1        1002             106           2          212   \n",
      "4         4         1         691             113           3          339   \n",
      "\n",
      "   customer_id  payment order_date delivery_date  ... quantity_y  \\\n",
      "0           64    30811  2021-8-30    2021-09-24  ...         44   \n",
      "1           64    30811  2021-8-30    2021-09-24  ...         62   \n",
      "2           64    30811  2021-8-30    2021-09-24  ...         54   \n",
      "3           64    30811  2021-8-30    2021-09-24  ...         52   \n",
      "4           64    30811  2021-8-30    2021-09-24  ...         53   \n",
      "\n",
      "                                   description     customer_name       gender  \\\n",
      "0   A orange coloured, L sized, Chambray Shirt  Annabella Devote  Genderfluid   \n",
      "1    A indigo coloured, S sized, Puffer Jacket  Annabella Devote  Genderfluid   \n",
      "2  A red coloured, M sized, Oxford Cloth Shirt  Annabella Devote  Genderfluid   \n",
      "3      A blue coloured, M sized, Wool Trousers  Annabella Devote  Genderfluid   \n",
      "4     A indigo coloured, S sized, Parka Jacket  Annabella Devote  Genderfluid   \n",
      "\n",
      "   age               home_address zip_code            city            state  \\\n",
      "0   75  4927 Alice MeadowApt. 960     7787  Sanfordborough  South Australia   \n",
      "1   75  4927 Alice MeadowApt. 960     7787  Sanfordborough  South Australia   \n",
      "2   75  4927 Alice MeadowApt. 960     7787  Sanfordborough  South Australia   \n",
      "3   75  4927 Alice MeadowApt. 960     7787  Sanfordborough  South Australia   \n",
      "4   75  4927 Alice MeadowApt. 960     7787  Sanfordborough  South Australia   \n",
      "\n",
      "     country  \n",
      "0  Australia  \n",
      "1  Australia  \n",
      "2  Australia  \n",
      "3  Australia  \n",
      "4  Australia  \n",
      "\n",
      "[5 rows x 25 columns]\n"
     ]
    }
   ],
   "source": [
    "data = import_data()\n",
    "print(data.head())"
   ]
  },
  {
   "cell_type": "markdown",
   "metadata": {},
   "source": [
    "Step 3: Perform Basket Analysis"
   ]
  },
  {
   "cell_type": "code",
   "execution_count": 52,
   "metadata": {},
   "outputs": [],
   "source": [
    "def basket_analysis(data):\n",
    "    # Prepare data for market basket analysis\n",
    "    basket_sets = data.groupby(['order_id', 'product_name'])['quantity_x'].sum().unstack().reset_index().fillna(0).set_index('order_id')\n",
    "    basket_sets = (basket_sets > 0).astype(int)  # Ensure boolean type usage\n",
    "\n",
    "    # Use Apriori algorithm to find frequent itemsets with a minimum support of 0.01\n",
    "    frequent_itemsets = apriori(basket_sets, min_support=0.01, use_colnames=True)\n",
    "\n",
    "    # Generate association rules from frequent itemsets using lift as the metric, minimum lift set to 1\n",
    "    rules = association_rules(frequent_itemsets, metric=\"lift\", min_threshold=1)\n",
    "\n",
    "    # Sort association rules by lift, confidence, and support in descending order\n",
    "    sorted_rules = rules.sort_values(by=['lift', 'confidence', 'support'], ascending=False)\n",
    "\n",
    "    return sorted_rules"
   ]
  },
  {
   "cell_type": "code",
   "execution_count": 13,
   "metadata": {},
   "outputs": [
    {
     "name": "stdout",
     "output_type": "stream",
     "text": [
      "                 antecedents            consequents  antecedent support  \\\n",
      "591    (Oxford Cloth, Denim)              (Cropped)            0.038268   \n",
      "594                (Cropped)  (Oxford Cloth, Denim)            0.124874   \n",
      "593           (Oxford Cloth)       (Cropped, Denim)            0.136959   \n",
      "592         (Cropped, Denim)         (Oxford Cloth)            0.038268   \n",
      "590  (Oxford Cloth, Cropped)                (Denim)            0.022155   \n",
      "\n",
      "     consequent support  support  confidence      lift  leverage  conviction  \\\n",
      "591            0.124874  0.01007    0.263158  2.107385  0.005292    1.187671   \n",
      "594            0.038268  0.01007    0.080645  2.107385  0.005292    1.046095   \n",
      "593            0.038268  0.01007    0.073529  1.921440  0.004829    1.038060   \n",
      "592            0.136959  0.01007    0.263158  1.921440  0.004829    1.171270   \n",
      "590            0.238671  0.01007    0.454545  1.904488  0.004783    1.395770   \n",
      "\n",
      "     zhangs_metric  \n",
      "591       0.546387  \n",
      "594       0.600460  \n",
      "593       0.555659  \n",
      "592       0.498639  \n",
      "590       0.485685  \n"
     ]
    },
    {
     "name": "stderr",
     "output_type": "stream",
     "text": [
      "/Users/aishwarya/Library/Python/3.9/lib/python/site-packages/mlxtend/frequent_patterns/fpcommon.py:109: DeprecationWarning: DataFrames with non-bool types result in worse computationalperformance and their support might be discontinued in the future.Please use a DataFrame with bool type\n",
      "  warnings.warn(\n"
     ]
    }
   ],
   "source": [
    "result = basket_analysis(data)\n",
    "print(result.head())"
   ]
  },
  {
   "cell_type": "markdown",
   "metadata": {},
   "source": [
    "Step 4: Save result to new csv file so it can be visualised"
   ]
  },
  {
   "cell_type": "code",
   "execution_count": 53,
   "metadata": {},
   "outputs": [],
   "source": [
    "result.to_csv('sorted_association_rules.csv', index=False)"
   ]
  }
 ],
 "metadata": {
  "kernelspec": {
   "display_name": "Python 3 (ipykernel)",
   "language": "python",
   "name": "python3"
  },
  "language_info": {
   "codemirror_mode": {
    "name": "ipython",
    "version": 3
   },
   "file_extension": ".py",
   "mimetype": "text/x-python",
   "name": "python",
   "nbconvert_exporter": "python",
   "pygments_lexer": "ipython3",
   "version": "3.11.4"
  }
 },
 "nbformat": 4,
 "nbformat_minor": 2
}
