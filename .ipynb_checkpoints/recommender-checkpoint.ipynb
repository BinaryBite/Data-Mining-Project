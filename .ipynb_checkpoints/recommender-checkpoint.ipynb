{
 "cells": [
  {
   "cell_type": "markdown",
   "metadata": {},
   "source": [
    "Recommender System based on User Ratings"
   ]
  },
  {
   "cell_type": "markdown",
   "metadata": {},
   "source": [
    "Step 1. Import Libraries"
   ]
  },
  {
   "cell_type": "code",
   "execution_count": 2,
   "metadata": {},
   "outputs": [
    {
     "name": "stdout",
     "output_type": "stream",
     "text": [
      "Requirement already satisfied: lenskit in /Users/aishwarya/anaconda3/lib/python3.11/site-packages (0.14.4)\n",
      "Requirement already satisfied: pandas>=1.0 in /Users/aishwarya/anaconda3/lib/python3.11/site-packages (from lenskit) (2.2.2)\n",
      "Requirement already satisfied: numpy>=1.17 in /Users/aishwarya/anaconda3/lib/python3.11/site-packages (from lenskit) (1.24.3)\n",
      "Requirement already satisfied: scipy>=1.2 in /Users/aishwarya/anaconda3/lib/python3.11/site-packages (from lenskit) (1.10.1)\n",
      "Requirement already satisfied: numba<0.59,>=0.51 in /Users/aishwarya/anaconda3/lib/python3.11/site-packages (from lenskit) (0.57.0)\n",
      "Requirement already satisfied: cffi>=1.12.2 in /Users/aishwarya/anaconda3/lib/python3.11/site-packages (from lenskit) (1.15.1)\n",
      "Requirement already satisfied: psutil>=5 in /Users/aishwarya/anaconda3/lib/python3.11/site-packages (from lenskit) (5.9.0)\n",
      "Requirement already satisfied: binpickle>=0.3.2 in /Users/aishwarya/anaconda3/lib/python3.11/site-packages (from lenskit) (0.3.4)\n",
      "Requirement already satisfied: seedbank>=0.1.0 in /Users/aishwarya/anaconda3/lib/python3.11/site-packages (from lenskit) (0.1.3)\n",
      "Requirement already satisfied: csr>=0.3.1 in /Users/aishwarya/anaconda3/lib/python3.11/site-packages (from lenskit) (0.5.1)\n",
      "Requirement already satisfied: msgpack>=1.0 in /Users/aishwarya/anaconda3/lib/python3.11/site-packages (from binpickle>=0.3.2->lenskit) (1.0.3)\n",
      "Requirement already satisfied: pycparser in /Users/aishwarya/anaconda3/lib/python3.11/site-packages (from cffi>=1.12.2->lenskit) (2.21)\n",
      "Requirement already satisfied: llvmlite<0.41,>=0.40.0dev0 in /Users/aishwarya/anaconda3/lib/python3.11/site-packages (from numba<0.59,>=0.51->lenskit) (0.40.0)\n",
      "Requirement already satisfied: python-dateutil>=2.8.2 in /Users/aishwarya/anaconda3/lib/python3.11/site-packages (from pandas>=1.0->lenskit) (2.8.2)\n",
      "Requirement already satisfied: pytz>=2020.1 in /Users/aishwarya/anaconda3/lib/python3.11/site-packages (from pandas>=1.0->lenskit) (2022.7)\n",
      "Requirement already satisfied: tzdata>=2022.7 in /Users/aishwarya/anaconda3/lib/python3.11/site-packages (from pandas>=1.0->lenskit) (2024.1)\n",
      "Requirement already satisfied: anyconfig==0.13.* in /Users/aishwarya/anaconda3/lib/python3.11/site-packages (from seedbank>=0.1.0->lenskit) (0.13.0)\n",
      "Requirement already satisfied: setuptools in /Users/aishwarya/anaconda3/lib/python3.11/site-packages (from anyconfig==0.13.*->seedbank>=0.1.0->lenskit) (68.0.0)\n",
      "Requirement already satisfied: six>=1.5 in /Users/aishwarya/anaconda3/lib/python3.11/site-packages (from python-dateutil>=2.8.2->pandas>=1.0->lenskit) (1.16.0)\n"
     ]
    }
   ],
   "source": [
    "!pip install lenskit"
   ]
  },
  {
   "cell_type": "code",
   "execution_count": 3,
   "metadata": {},
   "outputs": [
    {
     "ename": "ModuleNotFoundError",
     "evalue": "No module named 'lenskit'",
     "output_type": "error",
     "traceback": [
      "\u001b[0;31m---------------------------------------------------------------------------\u001b[0m",
      "\u001b[0;31mModuleNotFoundError\u001b[0m                       Traceback (most recent call last)",
      "\u001b[1;32m/Users/aishwarya/Downloads/data-mining-assignment/data-mining-group27/recommender.ipynb Cell 4\u001b[0m line \u001b[0;36m3\n\u001b[1;32m      <a href='vscode-notebook-cell:/Users/aishwarya/Downloads/data-mining-assignment/data-mining-group27/recommender.ipynb#W2sZmlsZQ%3D%3D?line=0'>1</a>\u001b[0m \u001b[39mimport\u001b[39;00m \u001b[39mpandas\u001b[39;00m \u001b[39mas\u001b[39;00m \u001b[39mpd\u001b[39;00m\n\u001b[1;32m      <a href='vscode-notebook-cell:/Users/aishwarya/Downloads/data-mining-assignment/data-mining-group27/recommender.ipynb#W2sZmlsZQ%3D%3D?line=1'>2</a>\u001b[0m \u001b[39mimport\u001b[39;00m \u001b[39mnumpy\u001b[39;00m \u001b[39mas\u001b[39;00m \u001b[39mnp\u001b[39;00m\n\u001b[0;32m----> <a href='vscode-notebook-cell:/Users/aishwarya/Downloads/data-mining-assignment/data-mining-group27/recommender.ipynb#W2sZmlsZQ%3D%3D?line=2'>3</a>\u001b[0m \u001b[39mfrom\u001b[39;00m \u001b[39mlenskit\u001b[39;00m\u001b[39m.\u001b[39;00m\u001b[39malgorithms\u001b[39;00m \u001b[39mimport\u001b[39;00m Recommender\n\u001b[1;32m      <a href='vscode-notebook-cell:/Users/aishwarya/Downloads/data-mining-assignment/data-mining-group27/recommender.ipynb#W2sZmlsZQ%3D%3D?line=3'>4</a>\u001b[0m \u001b[39mfrom\u001b[39;00m \u001b[39mlenskit\u001b[39;00m\u001b[39m.\u001b[39;00m\u001b[39malgorithms\u001b[39;00m\u001b[39m.\u001b[39;00m\u001b[39muser_knn\u001b[39;00m \u001b[39mimport\u001b[39;00m UserUser\n",
      "\u001b[0;31mModuleNotFoundError\u001b[0m: No module named 'lenskit'"
     ]
    }
   ],
   "source": [
    "import pandas as pd\n",
    "import numpy as np\n",
    "from lenskit.algorithms import Recommender\n",
    "from lenskit.algorithms.user_knn import UserUser"
   ]
  },
  {
   "cell_type": "code",
   "execution_count": 1,
   "metadata": {},
   "outputs": [
    {
     "name": "stdout",
     "output_type": "stream",
     "text": [
      "Requirement already satisfied: lenskit in /Users/aishwarya/anaconda3/lib/python3.11/site-packages (0.14.4)\n",
      "Requirement already satisfied: pandas>=1.0 in /Users/aishwarya/anaconda3/lib/python3.11/site-packages (from lenskit) (2.2.2)\n",
      "Requirement already satisfied: numpy>=1.17 in /Users/aishwarya/anaconda3/lib/python3.11/site-packages (from lenskit) (1.24.3)\n",
      "Requirement already satisfied: scipy>=1.2 in /Users/aishwarya/anaconda3/lib/python3.11/site-packages (from lenskit) (1.10.1)\n",
      "Requirement already satisfied: numba<0.59,>=0.51 in /Users/aishwarya/anaconda3/lib/python3.11/site-packages (from lenskit) (0.57.0)\n",
      "Requirement already satisfied: cffi>=1.12.2 in /Users/aishwarya/anaconda3/lib/python3.11/site-packages (from lenskit) (1.15.1)\n",
      "Requirement already satisfied: psutil>=5 in /Users/aishwarya/anaconda3/lib/python3.11/site-packages (from lenskit) (5.9.0)\n",
      "Requirement already satisfied: binpickle>=0.3.2 in /Users/aishwarya/anaconda3/lib/python3.11/site-packages (from lenskit) (0.3.4)\n",
      "Requirement already satisfied: seedbank>=0.1.0 in /Users/aishwarya/anaconda3/lib/python3.11/site-packages (from lenskit) (0.1.3)\n",
      "Requirement already satisfied: csr>=0.3.1 in /Users/aishwarya/anaconda3/lib/python3.11/site-packages (from lenskit) (0.5.1)\n",
      "Requirement already satisfied: msgpack>=1.0 in /Users/aishwarya/anaconda3/lib/python3.11/site-packages (from binpickle>=0.3.2->lenskit) (1.0.3)\n",
      "Requirement already satisfied: pycparser in /Users/aishwarya/anaconda3/lib/python3.11/site-packages (from cffi>=1.12.2->lenskit) (2.21)\n",
      "Requirement already satisfied: llvmlite<0.41,>=0.40.0dev0 in /Users/aishwarya/anaconda3/lib/python3.11/site-packages (from numba<0.59,>=0.51->lenskit) (0.40.0)\n",
      "Requirement already satisfied: python-dateutil>=2.8.2 in /Users/aishwarya/anaconda3/lib/python3.11/site-packages (from pandas>=1.0->lenskit) (2.8.2)\n",
      "Requirement already satisfied: pytz>=2020.1 in /Users/aishwarya/anaconda3/lib/python3.11/site-packages (from pandas>=1.0->lenskit) (2022.7)\n",
      "Requirement already satisfied: tzdata>=2022.7 in /Users/aishwarya/anaconda3/lib/python3.11/site-packages (from pandas>=1.0->lenskit) (2024.1)\n",
      "Requirement already satisfied: anyconfig==0.13.* in /Users/aishwarya/anaconda3/lib/python3.11/site-packages (from seedbank>=0.1.0->lenskit) (0.13.0)\n",
      "Requirement already satisfied: setuptools in /Users/aishwarya/anaconda3/lib/python3.11/site-packages (from anyconfig==0.13.*->seedbank>=0.1.0->lenskit) (68.0.0)\n",
      "Requirement already satisfied: six>=1.5 in /Users/aishwarya/anaconda3/lib/python3.11/site-packages (from python-dateutil>=2.8.2->pandas>=1.0->lenskit) (1.16.0)\n"
     ]
    }
   ],
   "source": [
    "!pip install lenskit\n"
   ]
  },
  {
   "cell_type": "code",
   "execution_count": 2,
   "metadata": {},
   "outputs": [],
   "source": [
    "import pandas as pd\n",
    "import numpy as np\n",
    "from lenskit.algorithms import Recommender\n",
    "from lenskit.algorithms.user_knn import UserUser"
   ]
  },
  {
   "cell_type": "code",
   "execution_count": null,
   "metadata": {},
   "outputs": [],
   "source": []
  }
 ],
 "metadata": {
  "kernelspec": {
   "display_name": "Python 3 (ipykernel)",
   "language": "python",
   "name": "python3"
  },
  "language_info": {
   "codemirror_mode": {
    "name": "ipython",
    "version": 3
   },
   "file_extension": ".py",
   "mimetype": "text/x-python",
   "name": "python",
   "nbconvert_exporter": "python",
   "pygments_lexer": "ipython3",
   "version": "3.11.4"
  }
 },
 "nbformat": 4,
 "nbformat_minor": 2
}
